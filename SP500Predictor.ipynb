{
 "cells": [
  {
   "cell_type": "markdown",
   "source": [
    "# Downloading SP500 history available using the  yfinance tool\n"
   ],
   "metadata": {
    "collapsed": false
   }
  },
  {
   "cell_type": "code",
   "execution_count": 88,
   "metadata": {
    "collapsed": true,
    "ExecuteTime": {
     "end_time": "2023-08-06T22:20:18.139115Z",
     "start_time": "2023-08-06T22:20:16.815805Z"
    }
   },
   "outputs": [],
   "source": [
    "# Library that gives us access to S&P500 Stock data\n",
    "import yfinance as yf\n",
    "\n",
    "# Libraries that gives us access to read information from the web\n",
    "import requests as rq\n",
    "from bs4 import BeautifulSoup as bs\n",
    "\n",
    "# Allows us to view the data and make changes to it\n",
    "import pandas as pd\n",
    "\n",
    "import matplotlib\n",
    "\n",
    "# Storing this data into variable (contained in a Pandas data frame)\n",
    "sp500 = yf.Ticker(\"^GSPC\")\n",
    "\n",
    "# Requesting the max history of the index\n",
    "sp500 = sp500.history(period=\"max\")"
   ]
  },
  {
   "cell_type": "code",
   "execution_count": 89,
   "outputs": [
    {
     "data": {
      "text/plain": "<Axes: xlabel='Date'>"
     },
     "execution_count": 89,
     "metadata": {},
     "output_type": "execute_result"
    },
    {
     "data": {
      "text/plain": "<Figure size 640x480 with 1 Axes>",
      "image/png": "[encoded data removed]"
     },
     "metadata": {},
     "output_type": "display_data"
    }
   ],
   "source": [
    "# Plots a line of the index to see progression of the index over time\n",
    "sp500.plot.line(y=\"Close\", use_index=True)"
   ],
   "metadata": {
    "collapsed": false,
    "ExecuteTime": {
     "end_time": "2023-08-06T22:20:19.929815Z",
     "start_time": "2023-08-06T22:20:18.143548Z"
    }
   }
  },
  {
   "cell_type": "markdown",
   "source": [
    "# Cleaning and visualizing our stock market data"
   ],
   "metadata": {
    "collapsed": false
   }
  },
  {
   "cell_type": "code",
   "execution_count": 90,
   "outputs": [],
   "source": [
    "# Delete the Dividend and Stock Split Columns from the PD DF (Not needed for Indexes\n",
    "del sp500[\"Dividends\"]\n",
    "del sp500[\"Stock Splits\"]"
   ],
   "metadata": {
    "collapsed": false,
    "ExecuteTime": {
     "end_time": "2023-08-06T22:20:19.944728Z",
     "start_time": "2023-08-06T22:20:19.931755Z"
    }
   }
  },
  {
   "cell_type": "markdown",
   "source": [
    "# Setting up the target for machine learning"
   ],
   "metadata": {
    "collapsed": false
   }
  },
  {
   "cell_type": "code",
   "execution_count": 91,
   "outputs": [],
   "source": [
    "# Creating a column called tomorrow (holding tomorrow's price)\n",
    "# Using pandas shift column to shift these prices back on day\n",
    "sp500[\"Tomorrow\"] = sp500[\"Close\"].shift(-1)\n",
    "\n",
    "# This target is what we are trying to predict with machine learning\n",
    "# Convert this into a int so that it is easier to manage\n",
    "# 0 for down, 1 for up\n",
    "sp500[\"Target\"] = (sp500[\"Tomorrow\"] > sp500[\"Close\"]).astype(int)\n",
    "\n",
    "# Removing all data before 1990\n",
    "# This is because market fundementals shift over time\n",
    "sp500 = sp500.loc[\"1990-01-01\":].copy()"
   ],
   "metadata": {
    "collapsed": false,
    "ExecuteTime": {
     "end_time": "2023-08-06T22:20:20.082288Z",
     "start_time": "2023-08-06T22:20:19.941143Z"
    }
   }
  },
  {
   "cell_type": "markdown",
   "source": [
    "# Training an intial machine learning model"
   ],
   "metadata": {
    "collapsed": false
   }
  },
  {
   "cell_type": "code",
   "execution_count": 92,
   "outputs": [
    {
     "data": {
      "text/plain": "RandomForestClassifier(min_samples_split=100, random_state=1)",
      "text/html": "<style>#sk-container-id-6 {color: black;}#sk-container-id-6 pre{padding: 0;}#sk-container-id-6 div.sk-toggleable {background-color: white;}#sk-container-id-6 label.sk-toggleable__label {cursor: pointer;display: block;width: 100%;margin-bottom: 0;padding: 0.3em;box-sizing: border-box;text-align: center;}#sk-container-id-6 label.sk-toggleable__label-arrow:before {content: \"▸\";float: left;margin-right: 0.25em;color: #696969;}#sk-container-id-6 label.sk-toggleable__label-arrow:hover:before {color: black;}#sk-container-id-6 div.sk-estimator:hover label.sk-toggleable__label-arrow:before {color: black;}#sk-container-id-6 div.sk-toggleable__content {max-height: 0;max-width: 0;overflow: hidden;text-align: left;background-color: #f0f8ff;}#sk-container-id-6 div.sk-toggleable__content pre {margin: 0.2em;color: black;border-radius: 0.25em;background-color: #f0f8ff;}#sk-container-id-6 input.sk-toggleable__control:checked~div.sk-toggleable__content {max-height: 200px;max-width: 100%;overflow: auto;}#sk-container-id-6 input.sk-toggleable__control:checked~label.sk-toggleable__label-arrow:before {content: \"▾\";}#sk-container-id-6 div.sk-estimator input.sk-toggleable__control:checked~label.sk-toggleable__label {background-color: #d4ebff;}#sk-container-id-6 div.sk-label input.sk-toggleable__control:checked~label.sk-toggleable__label {background-color: #d4ebff;}#sk-container-id-6 input.sk-hidden--visually {border: 0;clip: rect(1px 1px 1px 1px);clip: rect(1px, 1px, 1px, 1px);height: 1px;margin: -1px;overflow: hidden;padding: 0;position: absolute;width: 1px;}#sk-container-id-6 div.sk-estimator {font-family: monospace;background-color: #f0f8ff;border: 1px dotted black;border-radius: 0.25em;box-sizing: border-box;margin-bottom: 0.5em;}#sk-container-id-6 div.sk-estimator:hover {background-color: #d4ebff;}#sk-container-id-6 div.sk-parallel-item::after {content: \"\";width: 100%;border-bottom: 1px solid gray;flex-grow: 1;}#sk-container-id-6 div.sk-label:hover label.sk-toggleable__label {background-color: #d4ebff;}#sk-container-id-6 div.sk-serial::before {content: \"\";position: absolute;border-left: 1px solid gray;box-sizing: border-box;top: 0;bottom: 0;left: 50%;z-index: 0;}#sk-container-id-6 div.sk-serial {display: flex;flex-direction: column;align-items: center;background-color: white;padding-right: 0.2em;padding-left: 0.2em;position: relative;}#sk-container-id-6 div.sk-item {position: relative;z-index: 1;}#sk-container-id-6 div.sk-parallel {display: flex;align-items: stretch;justify-content: center;background-color: white;position: relative;}#sk-container-id-6 div.sk-item::before, #sk-container-id-6 div.sk-parallel-item::before {content: \"\";position: absolute;border-left: 1px solid gray;box-sizing: border-box;top: 0;bottom: 0;left: 50%;z-index: -1;}#sk-container-id-6 div.sk-parallel-item {display: flex;flex-direction: column;z-index: 1;position: relative;background-color: white;}#sk-container-id-6 div.sk-parallel-item:first-child::after {align-self: flex-end;width: 50%;}#sk-container-id-6 div.sk-parallel-item:last-child::after {align-self: flex-start;width: 50%;}#sk-container-id-6 div.sk-parallel-item:only-child::after {width: 0;}#sk-container-id-6 div.sk-dashed-wrapped {border: 1px dashed gray;margin: 0 0.4em 0.5em 0.4em;box-sizing: border-box;padding-bottom: 0.4em;background-color: white;}#sk-container-id-6 div.sk-label label {font-family: monospace;font-weight: bold;display: inline-block;line-height: 1.2em;}#sk-container-id-6 div.sk-label-container {text-align: center;}#sk-container-id-6 div.sk-container {/* jupyter's `normalize.less` sets `[hidden] { display: none; }` but bootstrap.min.css set `[hidden] { display: none !important; }` so we also need the `!important` here to be able to override the default hidden behavior on the sphinx rendered scikit-learn.org. See: https://github.com/scikit-learn/scikit-learn/issues/21755 */display: inline-block !important;position: relative;}#sk-container-id-6 div.sk-text-repr-fallback {display: none;}</style><div id=\"sk-container-id-6\" class=\"sk-top-container\"><div class=\"sk-text-repr-fallback\"><pre>RandomForestClassifier(min_samples_split=100, random_state=1)</pre><b>In a Jupyter environment, please rerun this cell to show the HTML representation or trust the notebook. <br />On GitHub, the HTML representation is unable to render, please try loading this page with nbviewer.org.</b></div><div class=\"sk-container\" hidden><div class=\"sk-item\"><div class=\"sk-estimator sk-toggleable\"><input class=\"sk-toggleable__control sk-hidden--visually\" id=\"sk-estimator-id-6\" type=\"checkbox\" checked><label for=\"sk-estimator-id-6\" class=\"sk-toggleable__label sk-toggleable__label-arrow\">RandomForestClassifier</label><div class=\"sk-toggleable__content\"><pre>RandomForestClassifier(min_samples_split=100, random_state=1)</pre></div></div></div></div></div>"
     },
     "execution_count": 92,
     "metadata": {},
     "output_type": "execute_result"
    }
   ],
   "source": [
    "# Intializing our Machine Learning Code\n",
    "from sklearn.ensemble import RandomForestClassifier\n",
    "\n",
    "# using this ML model because it is better when looking at over fitting\n",
    "model = RandomForestClassifier(n_estimators=100, min_samples_split=100, random_state=1)\n",
    "\n",
    "# Splitting data into a train and test\n",
    "# Because this is time data, we cannot use cross validation because this leads to leakage\n",
    "train = sp500.iloc[:-100] # Taking all rows except the last 100 rows for ftraining\n",
    "test = sp500.iloc[-100:] # Putting the last 100 rows for testing\n",
    "\n",
    "# These are the metrics that we are passing into the Neural Network to predict the targets\n",
    "predictors = [\"Close\", \"Volume\", \"Open\", \"High\", \"Low\"]\n",
    "\n",
    "# ML Code that fits these predictors onto our target (data, answer = how we got there)\n",
    "model.fit(train[predictors], train[\"Target\"])"
   ],
   "metadata": {
    "collapsed": false,
    "ExecuteTime": {
     "end_time": "2023-08-06T22:20:24.701186Z",
     "start_time": "2023-08-06T22:20:19.980105Z"
    }
   }
  },
  {
   "cell_type": "markdown",
   "source": [
    "# Building a System to Backtest"
   ],
   "metadata": {
    "collapsed": false
   }
  },
  {
   "cell_type": "code",
   "execution_count": 93,
   "outputs": [],
   "source": [
    "# Measuring how accurate our ML Code is\n",
    "from sklearn.metrics import precision_score\n",
    "\n",
    "# Generate predictions\n",
    "preds = model.predict(test[predictors])\n",
    "preds = pd.Series(preds, index=test.index)\n",
    "combined = pd.concat([test[\"Target\"], preds], axis=1)"
   ],
   "metadata": {
    "collapsed": false,
    "ExecuteTime": {
     "end_time": "2023-08-06T22:20:24.770023Z",
     "start_time": "2023-08-06T22:20:24.711402Z"
    }
   }
  },
  {
   "cell_type": "code",
   "execution_count": 94,
   "outputs": [],
   "source": [
    "def predict(train, test, predictions, model):\n",
    "    model.fit(train[predictors], train[\"Target\"])\n",
    "    preds = model.predict(test[predictors])\n",
    "    preds = pd.Series(preds, index=test.index, name = \"Predictions\")\n",
    "    combined = pd.concat([test[\"Target\"], preds], axis = 1)\n",
    "    return combined"
   ],
   "metadata": {
    "collapsed": false,
    "ExecuteTime": {
     "end_time": "2023-08-06T22:20:24.829926Z",
     "start_time": "2023-08-06T22:20:24.774751Z"
    }
   }
  },
  {
   "cell_type": "code",
   "execution_count": 95,
   "outputs": [],
   "source": [
    "# Back test function\n",
    "def backtest(data, model, predictors, start=2500, step=250):\n",
    "    # Creating a list that holds all our predictions\n",
    "    all_predictions = []\n",
    "\n",
    "    # Creating a function that loops over all of our data\n",
    "    for i in range(start, data.shape[0], step):\n",
    "        # Split train and test data\n",
    "        train = data.iloc[0:i].copy()\n",
    "        test= data.iloc[i:(i+step)].copy()\n",
    "\n",
    "        # Using the predict function to generate predictions\n",
    "        predictions = predict(train, test, predictors, model)\n",
    "\n",
    "        # Append all of these predictions to one array\n",
    "        all_predictions.append(predictions)\n",
    "\n",
    "        # Concatinating our predictions (takes a list of df and combines them into one)\n",
    "    return pd.concat(all_predictions)"
   ],
   "metadata": {
    "collapsed": false,
    "ExecuteTime": {
     "end_time": "2023-08-06T22:20:24.868Z",
     "start_time": "2023-08-06T22:20:24.790702Z"
    }
   }
  },
  {
   "cell_type": "code",
   "execution_count": 96,
   "outputs": [],
   "source": [
    "# Back testing our model from our previous model and predictors\n",
    "predictions = backtest(sp500, model, predictors)"
   ],
   "metadata": {
    "collapsed": false,
    "ExecuteTime": {
     "end_time": "2023-08-06T22:21:22.959107Z",
     "start_time": "2023-08-06T22:20:24.810061Z"
    }
   }
  },
  {
   "cell_type": "code",
   "execution_count": 97,
   "outputs": [
    {
     "data": {
      "text/plain": "Predictions\n0    3433\n1    2530\nName: count, dtype: int64"
     },
     "execution_count": 97,
     "metadata": {},
     "output_type": "execute_result"
    }
   ],
   "source": [
    "# Shows us how many times the model predicted when the market would go up (1) or down (0)\n",
    "# Helps us to evaluate our error\n",
    "predictions[\"Predictions\"].value_counts()"
   ],
   "metadata": {
    "collapsed": false,
    "ExecuteTime": {
     "end_time": "2023-08-06T22:21:22.976277Z",
     "start_time": "2023-08-06T22:21:22.960035Z"
    }
   }
  },
  {
   "cell_type": "code",
   "execution_count": 98,
   "outputs": [
    {
     "name": "stdout",
     "output_type": "stream",
     "text": [
      "Accuracy of Model:  0.5296442687747036\n"
     ]
    }
   ],
   "source": [
    "# Shows us a percentage of how accurate our model is\n",
    "# When we said the market would go up, it went up X percent of times\n",
    "print(\"Accuracy of Model: \", precision_score(predictions[\"Target\"], predictions[\"Predictions\"]))"
   ],
   "metadata": {
    "collapsed": false,
    "ExecuteTime": {
     "end_time": "2023-08-06T22:21:23.007968Z",
     "start_time": "2023-08-06T22:21:22.977588Z"
    }
   }
  },
  {
   "cell_type": "code",
   "execution_count": 99,
   "outputs": [
    {
     "data": {
      "text/plain": "Target\n1    0.533959\n0    0.466041\nName: count, dtype: float64"
     },
     "execution_count": 99,
     "metadata": {},
     "output_type": "execute_result"
    }
   ],
   "source": [
    "# General percentage of when the SPY actually went up (1) to when the market went down (0)\n",
    "# We can use this as a benchmark when testing our model\n",
    "predictions[\"Target\"].value_counts() / predictions.shape[0]"
   ],
   "metadata": {
    "collapsed": false,
    "ExecuteTime": {
     "end_time": "2023-08-06T22:21:23.008787Z",
     "start_time": "2023-08-06T22:21:22.998567Z"
    }
   }
  },
  {
   "cell_type": "markdown",
   "source": [
    "# Adding Additional Predictors to our Model"
   ],
   "metadata": {
    "collapsed": false
   }
  },
  {
   "cell_type": "code",
   "execution_count": 100,
   "outputs": [],
   "source": [
    "# Let us look at rolling means for the period of time (last 2 days, week, 3 months, year, and 4 years)\n",
    "horizons = [2, 5, 60, 250, 1000]\n",
    "new_predictors = []\n",
    "\n",
    "for horizon in horizons:\n",
    "    rolling_averages = sp500.rolling(horizon).mean()\n",
    "\n",
    "    # Acts as a moving average and shows us the trend of the index between the last X days\n",
    "    ratio_column = f\"Close_Ratio_{horizon}\"\n",
    "    sp500[ratio_column]  = sp500[\"Close\"] / rolling_averages[\"Close\"]\n",
    "\n",
    "    # Gives us the number of days in the past X days that the stock actually went up\n",
    "    trend_column = f\"Trend_{horizon}\"\n",
    "    sp500[trend_column] = sp500.shift(1).rolling(horizon).sum()[\"Target\"]\n",
    "\n",
    "    # Adds these values into the pandas data frame\n",
    "    new_predictors += [ratio_column, trend_column]\n"
   ],
   "metadata": {
    "collapsed": false,
    "ExecuteTime": {
     "end_time": "2023-08-06T22:21:23.121888Z",
     "start_time": "2023-08-06T22:21:23.013705Z"
    }
   }
  },
  {
   "cell_type": "code",
   "execution_count": 101,
   "outputs": [],
   "source": [
    "# Drops the columns that don't hold any information\n",
    "sp500 = sp500.dropna()"
   ],
   "metadata": {
    "collapsed": false,
    "ExecuteTime": {
     "end_time": "2023-08-06T22:21:23.144841Z",
     "start_time": "2023-08-06T22:21:23.132471Z"
    }
   }
  },
  {
   "cell_type": "markdown",
   "source": [
    "# Code that adjusts predictors based on Sentiment of news"
   ],
   "metadata": {
    "collapsed": false
   }
  },
  {
   "cell_type": "code",
   "execution_count": 102,
   "outputs": [],
   "source": [
    "def predVal(Sentiments):\n",
    "    size = len(Sentiments)\n",
    "    for i in range(size):\n",
    "        if Sentiments[i] == \"Unclear\" or Sentiments[i] == \"No clear indicator\":\n",
    "            continue\n",
    "        elif Sentiments[i] == \"BullishSentiment\":\n",
    "            return .4\n",
    "            break\n",
    "        elif Sentiments[i] == \"BearishSentiment\":\n",
    "            return .65\n",
    "            break\n",
    "        else:\n",
    "            break\n",
    "\n",
    "    return .57  # default value\n",
    "\n",
    "# find a way to tally the number of bearish / bullish sentiments that you find"
   ],
   "metadata": {
    "collapsed": false,
    "ExecuteTime": {
     "end_time": "2023-08-06T22:21:23.164290Z",
     "start_time": "2023-08-06T22:21:23.151461Z"
    }
   }
  },
  {
   "cell_type": "markdown",
   "source": [
    "# News Sentiment Analyzer"
   ],
   "metadata": {
    "collapsed": false
   }
  },
  {
   "cell_type": "code",
   "execution_count": 103,
   "outputs": [],
   "source": [
    "def analyze_news(text):\n",
    "    bullish_indicators = [\"lower rates\", \"cut rates\", \"rate cut\", \"lower yield\", \"reduced yields\", \"decreased interest rates\", \"lower borrowing costs\", \"dovish\", \"easing\", \"softening rates\", \"decrease rates\", \"reduced rates\", \"falling rates\", \"rate cuts\", \"falling inflation\", \"lower inflation\", \"inflation dip\", \"declining inflation\", \"dropping inflation\", \"easing inflation\", \"inflation drop\", \"reducing inflation rate\", \"lower rate of inflation\", \"subsiding inflation\", \"downturn in inflation\", \"decreased inflation\", \"rally\", \"bull market\", \"strength\", \"market bounce\", \"uptrend\", \"expansion\", \"positive growth\", \"bull run\" ]\n",
    "\n",
    "    bearish_indicators = [\"rate hikes\", \"higher yield\", \"rising yields\", \"tightening\", \"contractionary\", \"hawkish\", \"increased interest rates\", \"rising rates\", \"raised interest rates\", \"raising rates\", \"higher rates\", \"increasing rates\", \"rising inflation\", \"high inflation\", \"elevated inflation\", \"soaring inflation\", \"inflation spike\", \"surging inflation\", \"inflation uptick\", \"inflation jump\", \"jump in the inflation rate\", \"growing inflation rate\", \"heightened inflation\", \"rapid inflation\", \"accelerating inflation\", \"market weakness\", \"sell-off\", \"correction\", \"bear market\", \"downturn\", \"contraction\", \"market pullback\", \"downtrend\", \"negative growth\"]\n",
    "\n",
    "    bullish_found = any(indicator in text for indicator in bullish_indicators)\n",
    "    bearish_found = any(indicator in text for indicator in bearish_indicators)\n",
    "\n",
    "    if bullish_found and bearish_found:\n",
    "        return \"Unclear\"\n",
    "    elif bullish_found:\n",
    "        return \"BullishSentiment\"\n",
    "    elif bearish_found:\n",
    "        return \"BearishSentiment\"\n",
    "    else:\n",
    "        return \"No clear indicator\"\n"
   ],
   "metadata": {
    "collapsed": false,
    "ExecuteTime": {
     "end_time": "2023-08-06T22:21:23.191205Z",
     "start_time": "2023-08-06T22:21:23.167243Z"
    }
   }
  },
  {
   "cell_type": "markdown",
   "source": [
    "# Earnings Sentiment Analyzer"
   ],
   "metadata": {
    "collapsed": false
   }
  },
  {
   "cell_type": "code",
   "execution_count": 104,
   "outputs": [],
   "source": [
    "def analyze_stock_news(text):\n",
    "     bullish_news = [\"earnings beat\", \"growing revenue\", \"net gain\", \"positive growth\", \"rising sales\", \"outperforming expectations\", \"positive cash flow\", \"record earnings\", \"market strength\", \"strength\", \"bull run\", \"bounce\", \"bull market\", \"uptrend\", \"rally\", \"expansion\", \"analyst upgrades\", \"earnings beat estimates\", \"revenue growth\", \"positive guidance\", \"dividend increase\", \"increasing market share\"]\n",
    "\n",
    "     bearish_news = [\"market weakness\", \"stock weakness\", \"sell-off\", \"correction\", \"bear market\", \"downturn\", \"contraction\", \"market pullback\", \"downtrend\", \"negative growth\", \"earnings miss\", \"falling sales\", \"declining revenue\", \"negative cash flow\", \"decreased market share\", \"missed earnings estimates\", \"revenue decline\", \"layoffs\", \"analyst downgrades\", \"decreasing market share\"]\n",
    "\n",
    "     bullish_found = any(indicator in text for indicator in bullish_news)\n",
    "     bearish_found = any(indicator in text for indicator in bearish_news)\n",
    "\n",
    "     if bullish_found and bearish_found:\n",
    "        return \"Unclear\"\n",
    "     elif bullish_found:\n",
    "        return \"BullishSentiment\"\n",
    "     elif bearish_found:\n",
    "        return \"BearishSentiment\"\n",
    "     else:\n",
    "        return \"No clear indicator\""
   ],
   "metadata": {
    "collapsed": false,
    "ExecuteTime": {
     "end_time": "2023-08-06T22:21:23.236200Z",
     "start_time": "2023-08-06T22:21:23.192591Z"
    }
   }
  },
  {
   "cell_type": "markdown",
   "source": [
    "# Code that reads through News online"
   ],
   "metadata": {
    "collapsed": false
   }
  },
  {
   "cell_type": "code",
   "execution_count": 105,
   "outputs": [
    {
     "name": "stdout",
     "output_type": "stream",
     "text": [
      "News: \n",
      "\n",
      " 1. The week ahead will feature a crucial inflation report and earnings out of Disney, UPS, and Alibaba as second quarter earnings season winds down. \n",
      "\n",
      "News Sentiment:  No clear indicator\n",
      "\n",
      "News on Stocks With a Large portion of the SP500's Market Cap: \n",
      "\n",
      " 2. Wall Street seems to be recognizing that Apple, America's most valuable enterprise, is dangerously overpriced. \n",
      "\n",
      " Sentiment from Stock News:  No clear indicator\n",
      "\n",
      "Total Sentiments Found:  ['No clear indicator', 'No clear indicator']\n"
     ]
    }
   ],
   "source": [
    "url = \"https://finance.yahoo.com/\"\n",
    "webpage = rq.get(url)\n",
    "\n",
    "trav = bs(webpage.content, \"html.parser\")\n",
    "\n",
    "M = 1\n",
    "E = 1\n",
    "\n",
    "Sentiments = []\n",
    "\n",
    "# See the general news from a website for testing purposes\n",
    "# ------------------------------------------------------------------------ #\n",
    "# for link in trav.find_all('a'):\n",
    "#\n",
    "#     if(str(type(link.string)) == \"<class 'bs4.element.NavigableString'>\"\n",
    "#        and len(link.string) > 35):\n",
    "#\n",
    "#         print(str(M)+\".\", link.string)\n",
    "#         M += 1\n",
    "# ------------------------------------------------------------------------ #\n",
    "\n",
    "\n",
    "for link in trav.find_all(['a', 'p']):\n",
    "    if(str(type(link.string)) == \"<class 'bs4.element.NavigableString'>\" and len(link.string) > 50):\n",
    "        if \"inflation\" in link.string.lower() or \"rates\" in link.string.lower() or \"federal reserve\" in link.string.lower():\n",
    "            print(\"News: \\n\\n\",str(M)+\".\", link.string, \"\\n\\nNews Sentiment: \", analyze_news(link.string))\n",
    "            Sentiments.append(analyze_news(link.string))\n",
    "            M += 1\n",
    "\n",
    "        # This function was added because Apple and Microsoft encompass a large portion of the SP500's Market Cap index, so their news is important\n",
    "        if \"apple\" in link.string.lower() or \"microsoft\" in link.string.lower():\n",
    "           print(\"\\nNews on Stocks With a Large portion of the SP500's Market Cap: \\n\\n\", str(M)+\".\", link.string, \"\\n\\n Sentiment from Stock News: \", analyze_stock_news(link.string))\n",
    "           Sentiments.append(analyze_stock_news(link.string))\n",
    "           E += 1\n",
    "\n",
    "\n",
    "print(\"\\nTotal Sentiments Found: \", Sentiments)"
   ],
   "metadata": {
    "collapsed": false,
    "ExecuteTime": {
     "end_time": "2023-08-06T22:21:24.653986Z",
     "start_time": "2023-08-06T22:21:23.214555Z"
    }
   }
  },
  {
   "cell_type": "markdown",
   "source": [
    "# Updated Machine Learning code"
   ],
   "metadata": {
    "collapsed": false
   }
  },
  {
   "cell_type": "code",
   "execution_count": 106,
   "outputs": [],
   "source": [
    "# Updating our model and changing the parameters\n",
    "model = RandomForestClassifier(n_estimators=200, min_samples_split=50, random_state=1)\n",
    "\n",
    "\n",
    "# Function that helps us test our algorithm in more ways, looking at more years of data\n",
    "def predict(train, test, predictors, model):\n",
    "\n",
    "    # ML Code that fits these predictors onto our target (data, answer = how we got there)\n",
    "    model.fit(train[predictors], train[\"Target\"])\n",
    "\n",
    "    # Takes the second column of the df and sees if the value is above a certain threshold (.6) and updates the value\n",
    "    preds = model.predict_proba(test[predictors])[:,1] # Gives us more control over what becomes a 0 or a 1\n",
    "\n",
    "    # Setting the threshold to read in sentiments and adjust values based on that\n",
    "    preds[preds >= predVal(Sentiments)] = 1\n",
    "    preds[preds < predVal(Sentiments)] = 0\n",
    "\n",
    "    # We are given this as a numpy array, but it's easier to work with a series, so that's what we use\n",
    "    preds = pd.Series(preds, index=test.index, name=\"Predictions\")\n",
    "    combined = pd.concat([test[\"Target\"], preds], axis=1)\n",
    "    return combined"
   ],
   "metadata": {
    "collapsed": false,
    "ExecuteTime": {
     "end_time": "2023-08-06T22:21:24.668350Z",
     "start_time": "2023-08-06T22:21:24.658227Z"
    }
   }
  },
  {
   "cell_type": "code",
   "execution_count": 107,
   "outputs": [
    {
     "name": "stdout",
     "output_type": "stream",
     "text": [
      "Prediction Value:  0.57\n"
     ]
    }
   ],
   "source": [
    "# Back testing our model from our previous model and predictors\n",
    "predictions = backtest(sp500, model, new_predictors)\n",
    "\n",
    "# Gives us a reading of our prediction values\n",
    "print(\"Prediction Value: \", predVal(Sentiments))\n"
   ],
   "metadata": {
    "collapsed": false,
    "ExecuteTime": {
     "end_time": "2023-08-06T22:22:30.473432Z",
     "start_time": "2023-08-06T22:21:24.665160Z"
    }
   }
  },
  {
   "cell_type": "code",
   "execution_count": 108,
   "outputs": [
    {
     "data": {
      "text/plain": "Predictions\n0.0    3415\n1.0    1547\nName: count, dtype: int64"
     },
     "execution_count": 108,
     "metadata": {},
     "output_type": "execute_result"
    }
   ],
   "source": [
    "# Shows us how many times the model predicted when the market would go up (1) or down (0)\n",
    "# Helps us to evaluate our error\n",
    "predictions[\"Predictions\"].value_counts()"
   ],
   "metadata": {
    "collapsed": false,
    "ExecuteTime": {
     "end_time": "2023-08-06T22:22:30.541234Z",
     "start_time": "2023-08-06T22:22:30.474253Z"
    }
   }
  },
  {
   "cell_type": "code",
   "execution_count": 109,
   "outputs": [],
   "source": [
    "# Function that prints out into an external csv file for viewing\n",
    "path = '/Users/eddiekayizzi/PycharmProjects/SP500Predictor /Predictions.csv'\n",
    "sp500 = sp500.tail(5)\n",
    "sp500.to_csv(path)"
   ],
   "metadata": {
    "collapsed": false,
    "ExecuteTime": {
     "end_time": "2023-08-06T22:22:30.574314Z",
     "start_time": "2023-08-06T22:22:30.488708Z"
    }
   }
  },
  {
   "cell_type": "code",
   "execution_count": 110,
   "outputs": [
    {
     "name": "stdout",
     "output_type": "stream",
     "text": [
      "Accuracy of Model:  0.577246283128636\n"
     ]
    }
   ],
   "source": [
    "# Shows us a percentage of how accurate our model is\n",
    "# When we said the market would go up, it actually went up X percent of times\n",
    "print(\"Accuracy of Model: \", precision_score(predictions[\"Target\"], predictions[\"Predictions\"]))"
   ],
   "metadata": {
    "collapsed": false,
    "ExecuteTime": {
     "end_time": "2023-08-06T22:22:30.575221Z",
     "start_time": "2023-08-06T22:22:30.510368Z"
    }
   }
  },
  {
   "cell_type": "markdown",
   "source": [
    "# Summary of Code\n",
    "# ----------------------------------\n",
    "# Downloaded stock data for the SPY\n",
    "# Clean and Visualized the data\n",
    "# Set up machine learning target\n",
    "# Trained an initial model\n",
    "# Evaluated error and created a way to backtest and evaluate error over a period of time\n",
    "# Then Improved our model with extra predictor columns\n",
    "# ----------------------------------\n",
    "# Ways to extend model\n",
    "# ----------------------------------\n",
    "# There are other indices that are open before the SPY is open, you can check and see if there is a way to correlate these prices with the SPY\n",
    "# You can add in news of interest rates or inflation\n",
    "# You can think about adding in key stocks and how that affects the SPY"
   ],
   "metadata": {
    "collapsed": false
   }
  }
 ],
 "metadata": {
  "kernelspec": {
   "display_name": "Python 3",
   "language": "python",
   "name": "python3"
  },
  "language_info": {
   "codemirror_mode": {
    "name": "ipython",
    "version": 2
   },
   "file_extension": ".py",
   "mimetype": "text/x-python",
   "name": "python",
   "nbconvert_exporter": "python",
   "pygments_lexer": "ipython2",
   "version": "2.7.6"
  }
 },
 "nbformat": 4,
 "nbformat_minor": 0
}
